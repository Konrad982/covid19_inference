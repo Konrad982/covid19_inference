{
 "cells": [
  {
   "cell_type": "markdown",
   "metadata": {},
   "source": [
    "The first thing we need to do is import some essential stuff. Theses have to be installed and are prerequisites."
   ]
  },
  {
   "cell_type": "code",
   "execution_count": 1,
   "metadata": {},
   "outputs": [],
   "source": [
    "import datetime\n",
    "import time as time_module\n",
    "import sys\n",
    "import os \n",
    "\n",
    "import pandas as pd\n",
    "import numpy as np\n",
    "import matplotlib.pyplot as plt\n",
    "import scipy.stats\n",
    "import theano\n",
    "import matplotlib\n",
    "import pymc3 as pm\n",
    "import theano.tensor as tt"
   ]
  },
  {
   "cell_type": "markdown",
   "metadata": {},
   "source": [
    "Then we import the covid19_inference module."
   ]
  },
  {
   "cell_type": "code",
   "execution_count": 2,
   "metadata": {},
   "outputs": [],
   "source": [
    "try: \n",
    "    import covid19_inference as cov19\n",
    "except ModuleNotFoundError:\n",
    "    sys.path.append('..')\n",
    "    import covid19_inference as cov19"
   ]
  },
  {
   "cell_type": "markdown",
   "metadata": {},
   "source": [
    "We obtain the JHU data for the Netherlands."
   ]
  },
  {
   "cell_type": "code",
   "execution_count": 3,
   "metadata": {},
   "outputs": [],
   "source": [
    "jhu = cov19.data_retrieval.JHU()\n",
    "jhu.download_confirmed()\n",
    "\n",
    "# extract confirmed data\n",
    "bd = datetime.datetime(2020,3,3) # when cases began to increase quickly\n",
    "ed = datetime.date.today() - datetime.timedelta(days=1) # yesterday\n",
    "total_cases = jhu.get_confirmed(country = \"Netherlands\", begin_date= bd, end_date = ed )"
   ]
  },
  {
   "cell_type": "code",
   "execution_count": 4,
   "metadata": {},
   "outputs": [
    {
     "name": "stdout",
     "output_type": "stream",
     "text": [
      "[  14   44   46   60   77   56   61  121    0  303  156  176  278  295\n",
      "  347  409  536  637  577  547  816  858 1030 1179 1172 1111  887  850\n",
      " 1029 1092 1033  906 1226  973  783  973 1221 1346 1322 1175  964  870\n",
      "  736 1067 1236 1147 1072  750  729  715  889  808  655  656  400  172\n",
      "  386  514  477  445  335]\n"
     ]
    }
   ],
   "source": [
    "new_cases_obs = np.diff(total_cases.to_numpy().flatten())\n",
    "print(new_cases_obs)"
   ]
  },
  {
   "cell_type": "markdown",
   "metadata": {},
   "source": [
    "For the choice of changing points, see https://en.wikipedia.org/wiki/2020_coronavirus_pandemic_in_the_Netherlands\n",
    "\n",
    "- 11/03 common changepoint for stricter measures in North Brabant 10/03 and for closure of schools and public events 12/03\n",
    "- 15/03 stricter measures\n",
    "- 23/03 strict social distancing\n",
    "\n",
    "All the parameters chosen in the following amount to a quick, naive application of the model to Netherlands. Delays are set as for Germany."
   ]
  },
  {
   "cell_type": "code",
   "execution_count": 5,
   "metadata": {},
   "outputs": [],
   "source": [
    "date_begin_data = bd\n",
    "date_end_data   = ed\n",
    "diff_data_sim = 16 # should be significantly larger than the expected delay, in \n",
    "                   # order to always fit the same number of data points.\n",
    "num_days_forecast = 16\n",
    "\n",
    "prior_date_brabant_closures = datetime.datetime(2020,3,11)\n",
    "prior_date_stricter =  datetime.datetime(2020,3,15)\n",
    "prior_date_social_distancing =  datetime.datetime(2020,3,23)\n",
    "\n",
    "change_points = [dict(pr_mean_date_transient = prior_date_brabant_closures,\n",
    "                      pr_sigma_date_transient = 3, #reduced due to closeness to the next\n",
    "                      pr_median_lambda = 0.3,\n",
    "                      pr_sigma_lambda = 1),\n",
    "                dict(pr_mean_date_transient = prior_date_stricter,\n",
    "                      pr_sigma_date_transient = 3, #reduced\n",
    "                      pr_median_lambda = 0.2,\n",
    "                      pr_sigma_lambda = 1),\n",
    "                dict(pr_mean_date_transient = prior_date_social_distancing,\n",
    "                      pr_sigma_date_transient = 6,\n",
    "                      pr_median_lambda = 1/8,\n",
    "                      pr_sigma_lambda = 1)]"
   ]
  },
  {
   "cell_type": "code",
   "execution_count": 6,
   "metadata": {},
   "outputs": [
    {
     "name": "stderr",
     "output_type": "stream",
     "text": [
      "INFO     [covid19_inference.model_helper] pr_median_transient_len was set to default value 4\n",
      "INFO     [covid19_inference.model_helper] pr_sigma_transient_len was set to default value 0.5\n",
      "INFO     [covid19_inference.model_helper] pr_median_transient_len was set to default value 4\n",
      "INFO     [covid19_inference.model_helper] pr_sigma_transient_len was set to default value 0.5\n",
      "INFO     [covid19_inference.model_helper] pr_median_transient_len was set to default value 4\n",
      "INFO     [covid19_inference.model_helper] pr_sigma_transient_len was set to default value 0.5\n"
     ]
    }
   ],
   "source": [
    "params_model = dict(new_cases_obs = new_cases_obs[:],\n",
    "                    data_begin = date_begin_data,\n",
    "                    fcast_len = num_days_forecast,\n",
    "                    diff_data_sim = diff_data_sim,\n",
    "                    N_population = 17.3e6) \n",
    "\n",
    "# The model is specified in a context. Each function in this context has access to the model parameters set\n",
    "with cov19.Cov19Model(**params_model) as model:\n",
    "    # Create the an array of the time dependent infection rate lambda\n",
    "    lambda_t_log = cov19.lambda_t_with_sigmoids(pr_median_lambda_0 = 0.4,\n",
    "                                                change_points_list = change_points)\n",
    "    \n",
    "    # Use this array to run the SIR model\n",
    "    new_I_t = cov19.SIR(lambda_t_log, pr_median_mu=1/8)\n",
    "    \n",
    "    # Delay the cases by a lognormal reporting delay\n",
    "    new_cases_inferred_raw = cov19.delay_cases(new_I_t, pr_median_delay=10, \n",
    "                                               pr_median_scale_delay=0.4)\n",
    "    # delay as for Germany\n",
    "    \n",
    "    # Modulate the inferred cases by a abs(sin(x)) function, to account for weekend effects\n",
    "    new_cases_inferred = cov19.week_modulation(new_cases_inferred_raw)\n",
    "    \n",
    "    # Define the likelihood, uses the new_cases_obs set as model parameter\n",
    "    cov19.student_t_likelihood(new_cases_inferred)\n"
   ]
  },
  {
   "cell_type": "code",
   "execution_count": null,
   "metadata": {},
   "outputs": [
    {
     "name": "stderr",
     "output_type": "stream",
     "text": [
      "Auto-assigning NUTS sampler...\n",
      "INFO     [pymc3] Auto-assigning NUTS sampler...\n",
      "Initializing NUTS using advi+adapt_diag...\n",
      "INFO     [pymc3] Initializing NUTS using advi+adapt_diag...\n",
      "Average Loss = 496.51:   9%|▉         | 17999/200000 [00:34<05:45, 526.89it/s]\n",
      "Convergence achieved at 18000\n",
      "INFO     [pymc3.variational.inference] Convergence achieved at 18000\n",
      "Interrupted at 17,999 [8%]: Average Loss = 570.13\n",
      "INFO     [pymc3.variational.inference] Interrupted at 17,999 [8%]: Average Loss = 570.13\n",
      "Multiprocess sampling (4 chains in 4 jobs)\n",
      "INFO     [pymc3] Multiprocess sampling (4 chains in 4 jobs)\n",
      "NUTS: [sigma_obs, offset_modulation_rad, weekend_factor, delay_log, I_begin, mu, transient_len_3_log, transient_len_2_log, transient_len_1_log, transient_day_3, transient_day_2, transient_day_1, lambda_3_log, lambda_2_log, lambda_1_log, lambda_0_log]\n",
      "INFO     [pymc3] NUTS: [sigma_obs, offset_modulation_rad, weekend_factor, delay_log, I_begin, mu, transient_len_3_log, transient_len_2_log, transient_len_1_log, transient_day_3, transient_day_2, transient_day_1, lambda_3_log, lambda_2_log, lambda_1_log, lambda_0_log]\n",
      "Sampling 4 chains, 0 divergences:  99%|█████████▉| 13922/14000 [34:03<00:34,  2.27draws/s]"
     ]
    }
   ],
   "source": [
    "trace = pm.sample(model=model, tune=3000, draws=500, init='advi+adapt_diag')"
   ]
  },
  {
   "cell_type": "code",
   "execution_count": null,
   "metadata": {},
   "outputs": [],
   "source": [
    "varnames = cov19.plotting.get_all_free_RVs_names(model)\n",
    "num_cols = 5\n",
    "num_rows = int(np.ceil(len(varnames)/num_cols))\n",
    "x_size = num_cols * 2.5\n",
    "y_size = num_rows * 2.5\n",
    "\n",
    "fig, axes = plt.subplots(num_rows, num_cols, figsize = (x_size, y_size),squeeze=False)\n",
    "i_ax = 0\n",
    "for i_row, axes_row in enumerate(axes):\n",
    "    for i_col, ax in enumerate(axes_row):\n",
    "        if i_ax >= len(varnames):\n",
    "            ax.set_visible(False)\n",
    "            continue \n",
    "        else:\n",
    "            cov19.plotting.plot_hist(model, trace, ax, varnames[i_ax], \n",
    "                                     colors=('tab:blue', 'tab:green'), lambda_exp=True)\n",
    "        if not i_col == 0:\n",
    "            ax.set_ylabel('')\n",
    "        if i_col == 0 and i_row == 0:\n",
    "            ax.legend()\n",
    "        i_ax += 1\n",
    "fig.subplots_adjust(wspace=0.25, hspace=0.4)\n"
   ]
  },
  {
   "cell_type": "code",
   "execution_count": null,
   "metadata": {},
   "outputs": [],
   "source": [
    "plt.plot(new_cases_obs, 'd')\n",
    "plt.plot(np.median(trace.new_cases, axis=0))\n",
    "\n",
    "plt.xlabel(\"time (days)\")\n",
    "plt.ylabel(\"Daily new cases\")"
   ]
  },
  {
   "cell_type": "code",
   "execution_count": null,
   "metadata": {},
   "outputs": [],
   "source": [
    "fig.subplots_adjust(wspace=0.25, hspace=0.4)\n",
    "fig, axes = cov19.plotting.plot_cases(trace, new_cases_obs, bd - datetime.timedelta(days = diff_data_sim), diff_data_sim, country=\"the Netherlands\")"
   ]
  },
  {
   "cell_type": "code",
   "execution_count": null,
   "metadata": {},
   "outputs": [],
   "source": []
  }
 ],
 "metadata": {
  "kernelspec": {
   "display_name": "Python 3",
   "language": "python",
   "name": "python3"
  },
  "language_info": {
   "codemirror_mode": {
    "name": "ipython",
    "version": 3
   },
   "file_extension": ".py",
   "mimetype": "text/x-python",
   "name": "python",
   "nbconvert_exporter": "python",
   "pygments_lexer": "ipython3",
   "version": "3.7.6"
  }
 },
 "nbformat": 4,
 "nbformat_minor": 4
}
