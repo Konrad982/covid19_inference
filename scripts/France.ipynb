{
 "cells": [
  {
   "cell_type": "markdown",
   "metadata": {},
   "source": [
    "The first thing we need to do is import some essential stuff. Theses have to be installed and are prerequisites."
   ]
  },
  {
   "cell_type": "code",
   "execution_count": 9,
   "metadata": {},
   "outputs": [],
   "source": [
    "import datetime\n",
    "import time as time_module\n",
    "import sys\n",
    "import os \n",
    "\n",
    "import pandas as pd\n",
    "import numpy as np\n",
    "import matplotlib.pyplot as plt\n",
    "import scipy.stats\n",
    "import theano\n",
    "import matplotlib\n",
    "import pymc3 as pm\n",
    "import theano.tensor as tt"
   ]
  },
  {
   "cell_type": "code",
   "execution_count": 59,
   "metadata": {},
   "outputs": [],
   "source": [
    "try: \n",
    "    import covid19_inference as cov19\n",
    "except ModuleNotFoundError:\n",
    "    sys.path.append('..')\n",
    "    import covid19_inference as cov19"
   ]
  },
  {
   "cell_type": "markdown",
   "metadata": {},
   "source": [
    "We read and work on a csv file containing the daily new hospitalisations from 18/03 to 30/04 in France."
   ]
  },
  {
   "cell_type": "code",
   "execution_count": 14,
   "metadata": {},
   "outputs": [],
   "source": [
    "import requests\n",
    "import io\n",
    "\n",
    "url = \"https://static.data.gouv.fr/resources/donnees-hospitalieres-relatives-a-lepidemie-de-covid-19/20200430-190020/donnees-hospitalieres-nouveaux-covid19-2020-04-30-19h00.csv\"\n",
    "\n",
    "dataset = requests.get(url).content\n",
    "hospitalisations = pd.read_csv(io.StringIO(dataset.decode('utf-8')), sep=\";\")"
   ]
  },
  {
   "cell_type": "code",
   "execution_count": 15,
   "metadata": {},
   "outputs": [],
   "source": [
    "hospitalisations = hospitalisations.groupby(\"jour\").sum()\n",
    "hospitalisations = hospitalisations.drop([\"incid_rea\", \"incid_dc\", \"incid_rad\"], axis=1)"
   ]
  },
  {
   "cell_type": "code",
   "execution_count": 16,
   "metadata": {},
   "outputs": [],
   "source": [
    "hospitalisations.index = pd.to_datetime(hospitalisations.index, format=\"%Y-%m-%d\")"
   ]
  },
  {
   "cell_type": "code",
   "execution_count": 66,
   "metadata": {},
   "outputs": [],
   "source": [
    "bd = hospitalisations.index[0]\n",
    "ed = hospitalisations.index[-1]\n",
    "\n",
    "new_cases_obs = hospitalisations.to_numpy().flatten()\n",
    "\n",
    "date_begin_data = bd\n",
    "date_end_data   = ed\n",
    "diff_data_sim = 16 # should be significantly larger than the expected delay, in \n",
    "                   # order to always fit the same number of data points.\n",
    "num_days_forecast = 16\n",
    "\n",
    "prior_date_confinement_begin =  datetime.datetime(2020,3,17)\n",
    "prior_date_easter_begin =  datetime.datetime(2020,4,11)\n",
    "prior_date_easter_end = datetime.datetime(2020,4,13)\n",
    "\n",
    "change_points = [dict(pr_mean_date_transient = prior_date_confinement_begin,\n",
    "                      pr_sigma_date_transient = 6,\n",
    "                      pr_median_lambda = 0.2,\n",
    "                      pr_sigma_lambda = 1),\n",
    "                dict(pr_mean_date_transient = prior_date_easter_begin,\n",
    "                      pr_sigma_date_transient = 6,\n",
    "                      pr_median_lambda = 1/8,\n",
    "                      pr_sigma_lambda = 1),\n",
    "                dict(pr_mean_date_transient = prior_date_easter_end,\n",
    "                      pr_sigma_date_transient = 6,\n",
    "                      pr_median_lambda = 1/8/2,\n",
    "                      pr_sigma_lambda = 1)]"
   ]
  },
  {
   "cell_type": "code",
   "execution_count": null,
   "metadata": {},
   "outputs": [],
   "source": [
    "params_model = dict(new_cases_obs = new_cases_obs[:],\n",
    "                    data_begin = date_begin_data,\n",
    "                    fcast_len = num_days_forecast,\n",
    "                    diff_data_sim = diff_data_sim,\n",
    "                    N_population = 67e6) \n",
    "\n",
    "# The model is specified in a context. Each function in this context has access to the model parameters set\n",
    "with cov19.Cov19Model(**params_model) as model:\n",
    "    # Create the an array of the time dependent infection rate lambda\n",
    "    lambda_t_log = cov19.lambda_t_with_sigmoids(pr_median_lambda_0 = 0.4,\n",
    "                                                change_points_list = change_points)\n",
    "    \n",
    "    # Use this array to run the SIR model\n",
    "    new_I_t = cov19.SIR(lambda_t_log, pr_median_mu=1/8)\n",
    "    \n",
    "    # Delay the cases by a lognormal reporting delay\n",
    "    new_cases_inferred_raw = cov19.delay_cases(new_I_t, pr_median_delay=15, \n",
    "                                               pr_median_scale_delay=0.4)\n",
    "    # higher delay because of use of hospitalisation data\n",
    "    \n",
    "    # Modulate the inferred cases by a abs(sin(x)) function, to account for weekend effects\n",
    "    new_cases_inferred = cov19.week_modulation(new_cases_inferred_raw)\n",
    "    \n",
    "    # Define the likelihood, uses the new_cases_obs set as model parameter\n",
    "    cov19.student_t_likelihood(new_cases_inferred)\n"
   ]
  },
  {
   "cell_type": "code",
   "execution_count": null,
   "metadata": {},
   "outputs": [],
   "source": [
    "trace = pm.sample(model=model, tune=500, draws=500, init='advi+adapt_diag', cores=1)"
   ]
  },
  {
   "cell_type": "code",
   "execution_count": null,
   "metadata": {},
   "outputs": [],
   "source": [
    " varnames = cov19.plotting.get_all_free_RVs_names(model)\n",
    "num_cols = 5\n",
    "num_rows = int(np.ceil(len(varnames)/num_cols))\n",
    "x_size = num_cols * 2.5\n",
    "y_size = num_rows * 2.5\n",
    "\n",
    "fig, axes = plt.subplots(num_rows, num_cols, figsize = (x_size, y_size),squeeze=False)\n",
    "i_ax = 0\n",
    "for i_row, axes_row in enumerate(axes):\n",
    "    for i_col, ax in enumerate(axes_row):\n",
    "        if i_ax >= len(varnames):\n",
    "            ax.set_visible(False)\n",
    "            continue \n",
    "        else:\n",
    "            cov19.plotting.plot_hist(model, trace, ax, varnames[i_ax], \n",
    "                                     colors=('tab:blue', 'tab:green'))\n",
    "        if not i_col == 0:\n",
    "            ax.set_ylabel('')\n",
    "        if i_col == 0 and i_row == 0:\n",
    "            ax.legend()\n",
    "        i_ax += 1\n",
    "fig.subplots_adjust(wspace=0.25, hspace=0.4)\n"
   ]
  },
  {
   "cell_type": "code",
   "execution_count": null,
   "metadata": {},
   "outputs": [],
   "source": [
    "plt.plot(new_cases_obs, 'd')\n",
    "plt.plot(np.median(trace.new_cases, axis=0))\n",
    "\n",
    "plt.xlabel(\"time (days)\")\n",
    "plt.ylabel(\"Daily new cases\")"
   ]
  },
  {
   "cell_type": "code",
   "execution_count": null,
   "metadata": {},
   "outputs": [],
   "source": []
  }
 ],
 "metadata": {
  "kernelspec": {
   "display_name": "Python 3",
   "language": "python",
   "name": "python3"
  },
  "language_info": {
   "codemirror_mode": {
    "name": "ipython",
    "version": 3
   },
   "file_extension": ".py",
   "mimetype": "text/x-python",
   "name": "python",
   "nbconvert_exporter": "python",
   "pygments_lexer": "ipython3",
   "version": "3.8.2"
  }
 },
 "nbformat": 4,
 "nbformat_minor": 4
}
